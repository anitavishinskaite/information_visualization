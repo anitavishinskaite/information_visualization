{
 "cells": [
  {
   "cell_type": "markdown",
   "metadata": {},
   "source": [
    "# Data visualization on the web\n",
    "\n",
    "In this tutorial we learn how to create web-ready interactive data visualizations from Jupyter by using the library **Bokeh**.\n",
    "\n",
    "## Case study: display the distribution of artistic periods in the '90s\n",
    "\n",
    "We want to display how frequently an artistic period is addressed in collections over time. We want to compare the proportions of periods occurrences for each year. We want to visualize the distribution and be able to compare the variance across years in a **stacked bar chart**, wherein on the x axis we place the years (in the '90s) and on the y axis we place the count for each artistic period. We use a standard distribution, meaning we show the actual number of occurrences and not their percentage.\n",
    "\n",
    "To do so, we reuse the csv table we created in prior tutorials called `periods_dates.csv`, where in every row we have a unique combination of `\"collection\",\"period_label\",\"year\"`. \n",
    "\n",
    "To visualize this information in a stacked bar chart we need to create a new matrix where columns are the (unique) artistic periods and every row represents the counting of periods (respectively) in a certain year. By looking at the [documentation of Bokeh](https://docs.bokeh.org/en/latest/docs/gallery/bar_stacked.html) we understand we need to create a structure like the following one:"
   ]
  },
  {
   "cell_type": "code",
   "execution_count": 1,
   "metadata": {},
   "outputs": [],
   "source": [
    "my_fake_final_data = { \"my_periods\" : [\"period_1\", \"period_2\", \"period_n\"],\n",
    "                 \"1950\": [6,15,3],\n",
    "                 \"1951\": [4,9,1],\n",
    "                 \"2020\": [3,0,1]}"
   ]
  },
  {
   "cell_type": "markdown",
   "metadata": {},
   "source": [
    "We need to create a dictionary while iterating over the rows of the csv. Every key of the dictionary has as a value a list. We can use a `defaultdict` to initialise the dictionary and feed the values while iterating in a for loop. "
   ]
  },
  {
   "cell_type": "code",
   "execution_count": 4,
   "metadata": {},
   "outputs": [
    {
     "name": "stdout",
     "output_type": "stream",
     "text": [
      "{'periods': ['15th century', 'Middle Ages', 'Byzantine art', '19th century', 'neoclassicism', '14th century', 'Renaissance', 'Baroque', 'early Christian art and architecture', '18th century', 'modern art', '16th century', 'Romanticism', 'Cold War', 'Mannerism', '17th century'], '1990': [6.0, 3.0, 2.0, 1.0, 2.0, 1.0, 9.0, 5.0, 2.0, 3.0, 1.0, 6.0, 1.0, 0.0, 2.0, 6.0], '1991': [6.0, 3.0, 2.0, 1.0, 2.0, 1.0, 9.0, 5.0, 2.0, 3.0, 1.0, 6.0, 1.0, 0.0, 2.0, 6.0], '1992': [6.0, 3.0, 2.0, 1.0, 2.0, 1.0, 9.0, 5.0, 2.0, 3.0, 1.0, 6.0, 1.0, 0.0, 2.0, 6.0], '1993': [6.0, 3.0, 2.0, 1.0, 2.0, 1.0, 8.0, 5.0, 2.0, 3.0, 1.0, 6.0, 1.0, 0.0, 2.0, 6.0], '1994': [6.0, 3.0, 2.0, 1.0, 2.0, 1.0, 8.0, 5.0, 2.0, 3.0, 1.0, 6.0, 1.0, 0.0, 2.0, 6.0], '1995': [6.0, 3.0, 2.0, 1.0, 2.0, 1.0, 8.0, 5.0, 2.0, 3.0, 1.0, 6.0, 1.0, 0.0, 2.0, 6.0], '1996': [5.0, 2.0, 1.0, 1.0, 2.0, 1.0, 7.0, 5.0, 1.0, 3.0, 1.0, 6.0, 1.0, 0.0, 2.0, 6.0], '1997': [5.0, 2.0, 1.0, 1.0, 2.0, 1.0, 6.0, 4.0, 1.0, 2.0, 0.0, 6.0, 1.0, 0.0, 2.0, 5.0], '1998': [5.0, 2.0, 1.0, 1.0, 2.0, 1.0, 6.0, 4.0, 1.0, 2.0, 0.0, 6.0, 1.0, 0.0, 2.0, 5.0], '1999': [4.0, 1.0, 1.0, 1.0, 2.0, 1.0, 5.0, 3.0, 1.0, 2.0, 0.0, 5.0, 1.0, 0.0, 1.0, 4.0]}\n"
     ]
    }
   ],
   "source": [
    "import csv\n",
    "from collections import defaultdict\n",
    "import numpy as np\n",
    "data = {} # final data\n",
    "\n",
    "\n",
    "with open('periods_dates.csv') as csvfile:\n",
    "    data_periods = [] \n",
    "    years = []\n",
    "    rows = csv.reader(csvfile, delimiter=',')\n",
    "    next(rows) # skip the header\n",
    "    for row in rows:\n",
    "        if row[1] not in data_periods:\n",
    "            data_periods.append(row[1]) # create the list of unique periods\n",
    "        if row[2] not in years and (int(row[2]) >= 1980 and int(row[2]) <= 1999) :\n",
    "            years.append(row[2]) # create the list of unique periods\n",
    "    \n",
    "    years.sort()\n",
    "    periods_years_zeros_matrix = np.array(np.zeros(( len(years), len(data_periods) ))) # rows, columns\n",
    "    \n",
    "    for i, period in enumerate(data_periods): # loop over periods and their index position  \n",
    "        for j, year in enumerate(years):\n",
    "            with open('periods_dates.csv') as csvfile:\n",
    "                rows = csv.reader(csvfile, delimiter=',')\n",
    "                for row in rows:\n",
    "                    if row[2] == year and row[1] == period:\n",
    "                        periods_years_zeros_matrix[j][i] = int(periods_years_zeros_matrix[j][i])+1\n",
    "    \n",
    "    periods_years_zeros_matrix\n",
    "    \n",
    "# put everything together\n",
    "data[\"periods\"] = data_periods\n",
    "for i, year in enumerate(years):\n",
    "    data[year] = list(periods_years_zeros_matrix[i])\n",
    "print(data)"
   ]
  },
  {
   "cell_type": "code",
   "execution_count": 3,
   "metadata": {},
   "outputs": [],
   "source": [
    "from bokeh.io import output_file, show\n",
    "from bokeh.plotting import figure\n",
    "import random\n",
    "\n",
    "output_file(\"periods_by_year.html\")\n",
    "\n",
    "number_of_colors = 10 # pick random colors for the years\n",
    "color = [\"#\"+''.join([random.choice('0123456789ABCDEF') for j in range(6)])\n",
    "             for i in range(number_of_colors)]\n",
    "\n",
    "p = figure(x_range=data_periods, plot_height=650, title=\"Periods counting by year\",\n",
    "           toolbar_location=None, tools=\"hover\", tooltips=\"$name: @$name\")\n",
    "\n",
    "p.vbar_stack(years, x='periods', width=0.8, color=color, source=data,\n",
    "             legend_label=years)\n",
    "\n",
    "p.y_range.start = 0\n",
    "p.x_range.range_padding = 0.2\n",
    "p.xgrid.grid_line_color = None\n",
    "p.axis.minor_tick_line_color = None\n",
    "p.outline_line_color = None\n",
    "p.legend.location = \"top_left\"\n",
    "p.legend.orientation = \"vertical\"\n",
    "p.xaxis.major_label_orientation = \"vertical\"\n",
    "show(p)"
   ]
  },
  {
   "cell_type": "markdown",
   "metadata": {},
   "source": [
    "As a result you get an html page including the snippet HTML + JS. This allows you to leverage charts that are available only in python libraries (or that are complex to handle with Javascript libraries) and reuse them in the final visualization."
   ]
  }
 ],
 "metadata": {
  "kernelspec": {
   "display_name": "Python 3",
   "language": "python",
   "name": "python3"
  },
  "language_info": {
   "codemirror_mode": {
    "name": "ipython",
    "version": 3
   },
   "file_extension": ".py",
   "mimetype": "text/x-python",
   "name": "python",
   "nbconvert_exporter": "python",
   "pygments_lexer": "ipython3",
   "version": "3.8.0"
  }
 },
 "nbformat": 4,
 "nbformat_minor": 4
}
