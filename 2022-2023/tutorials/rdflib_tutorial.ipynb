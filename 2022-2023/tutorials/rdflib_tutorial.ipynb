{
 "cells": [
  {
   "cell_type": "markdown",
   "metadata": {},
   "source": [
    "# Managing RDF data in python\n",
    "\n",
    "\n",
    " 1. Introduction to RDFlib\n",
    " 2. Querying RDF data\n",
    " 3. Creating RDF triples\n",
    " 4. Saving and storing RDF data\n",
    " \n"
   ]
  },
  {
   "cell_type": "code",
   "execution_count": null,
   "metadata": {},
   "outputs": [],
   "source": [
    "# all imports\n",
    "import pprint\n",
    "import rdflib\n",
    "from rdflib import URIRef, Literal, Namespace\n",
    "from rdflib.namespace import XSD, RDFS, DCTERMS\n",
    "from rdflib import Literal"
   ]
  },
  {
   "cell_type": "markdown",
   "metadata": {},
   "source": [
    "## 1. Introduction to RDFlib\n",
    "\n",
    "RDFlib is a python library for managing RDF data in Python in local servers or server-side web applications. It allows one to:\n",
    "\n",
    " * parse RDF data stored in files (either local or online) with several syntaxes\n",
    " * manipulate RDF data by creating a in-memory graph\n",
    " * query RDF data by means of SPARQL queries and other built-in constructs\n",
    " * serialize and store RDF data in files.\n",
    "\n",
    "#### How does it work? \n",
    "\n",
    "Basically, a graph is treated as an unordered list of tuples. Each tuple has three elements, namely two/three URIs corresponding to subject, predicate, and object. "
   ]
  },
  {
   "cell_type": "code",
   "execution_count": null,
   "metadata": {},
   "outputs": [],
   "source": [
    "subj1 = '<http://example.org/robert_capa>'\n",
    "subj2 = '<http://example.org/gerda_taro>'\n",
    "pred1 = '<http://example.org/knows>'\n",
    "pred2 = '<http://example.org/hasSpouse>'\n",
    "obj1 = '<http://example.org/henri_cartier_bresson>'\n",
    "\n",
    "# the basic behaviour in RDFlib\n",
    "example_graph = [\n",
    "    (subj1, pred1, obj1),\n",
    "    (subj2, pred2, subj1)\n",
    "]"
   ]
  },
  {
   "cell_type": "markdown",
   "metadata": {},
   "source": [
    "NB. An object can be either a URI or a literal (e.g. a string, a date, an integer and so on). Have a look at the [RDFlib supported terms](https://rdflib.readthedocs.io/en/stable/rdf_terms.html)"
   ]
  },
  {
   "cell_type": "markdown",
   "metadata": {},
   "source": [
    "#### Parse RDF data\n",
    "\n",
    "If the data are stored in a file or a **string**, this must be parsed and the data transformed in an in-memory graph (i.e. the aforementioned list of tuples). For instance:"
   ]
  },
  {
   "cell_type": "code",
   "execution_count": null,
   "metadata": {},
   "outputs": [],
   "source": [
    "example_data = \"\"\"\n",
    "    <http://example.org/robert_capa> <http://example.org/knows> <http://example.org/henri_cartier_bresson> .\n",
    "    <http://example.org/gerda_taro> <http://example.org/hasSpouse> <http://example.org/robert_capa> .\n",
    "    \"\"\"\n",
    "\n",
    "example_g = rdflib.Graph()\n",
    "example_result = example_g.parse(data=example_data, format='nt')\n",
    "\n",
    "# get the number of statements (triples)\n",
    "print(len(example_g))"
   ]
  },
  {
   "cell_type": "markdown",
   "metadata": {},
   "source": [
    "#### Parse ARTchives data\n",
    "\n",
    "In our case, we parse data from a **file**.\n",
    "\n",
    "Our file includes **several graphs**, hence we need to parse our data and move data in several lists of tuples. In RDFlib you do that by using the class `ConjunctiveGraph` like follows."
   ]
  },
  {
   "cell_type": "code",
   "execution_count": null,
   "metadata": {},
   "outputs": [],
   "source": [
    "# create an empty Graph\n",
    "g = rdflib.ConjunctiveGraph()\n",
    "\n",
    "# parse a local RDF file by specifying the format into the graph\n",
    "result = g.parse(\"../resources/artchives.nq\", format='nquads')"
   ]
  },
  {
   "cell_type": "markdown",
   "metadata": {},
   "source": [
    "Now the graph **g** includes all the triples and the named graphs described in the file, and we can apply both python and RDFlib methods on it. For instance:"
   ]
  },
  {
   "cell_type": "code",
   "execution_count": null,
   "metadata": {},
   "outputs": [],
   "source": [
    "## the number of triples (quadruples)\n",
    "print(len(g))"
   ]
  },
  {
   "cell_type": "markdown",
   "metadata": {},
   "source": [
    "## 2. Querying RDF data\n",
    "\n",
    "Now that our graph `g` is ready, we can query the data. Queries can be done via SPARQL queries (we will see it in the next tutorial) or by using python and RDFlib methods for iterating over tuples. \n",
    "\n",
    "#### Iterate over all the graphs"
   ]
  },
  {
   "cell_type": "code",
   "execution_count": null,
   "metadata": {},
   "outputs": [],
   "source": [
    "for n_graph in g.contexts():\n",
    "    pprint.pprint(n_graph)"
   ]
  },
  {
   "cell_type": "markdown",
   "metadata": {},
   "source": [
    "#### iterate over all the triples + context graph (i.e. quads)"
   ]
  },
  {
   "cell_type": "code",
   "execution_count": null,
   "metadata": {},
   "outputs": [],
   "source": [
    "for quad in g.quads():\n",
    "    pprint.pprint(quad)"
   ]
  },
  {
   "cell_type": "markdown",
   "metadata": {},
   "source": [
    "#### Iterate over all terms of the quads"
   ]
  },
  {
   "cell_type": "code",
   "execution_count": null,
   "metadata": {},
   "outputs": [],
   "source": [
    "# iterate over all terms of the quads\n",
    "for subj, pred, obj, context in g.quads():\n",
    "    pprint.pprint(obj)"
   ]
  },
  {
   "cell_type": "markdown",
   "metadata": {},
   "source": [
    "#### Manipulate single elements of the triple/ quad. \n",
    "\n",
    "For instance, we can get the **list of objects** as a set and work on the unique values of the list. To this extent, we can mix both RDFlib methods and python built-in methods to work on RDF data as any other type of data."
   ]
  },
  {
   "cell_type": "code",
   "execution_count": null,
   "metadata": {},
   "outputs": [],
   "source": [
    "unique_objs = set()\n",
    "for subj, pred, obj, context in g.quads():\n",
    "    unique_objs.add(obj)\n",
    "    \n",
    "for obj in unique_objs:\n",
    "    pprint.pprint(obj)"
   ]
  },
  {
   "cell_type": "markdown",
   "metadata": {},
   "source": [
    "Look at the results: RDFlib classifies URIs as `rdflib.URIRef` and strings as `rdflib.Literal`, which are two of the aforementioned terms that RDFlib handles. We can reuse such methods to query data in more precisely ways.\n",
    "\n",
    "#### Replace variables with real values\n",
    "\n",
    "When iterating over triples, we can replace placeholders with real values. \n",
    "For instance, we can get **all the triples that have as subject the URI identifying Federico Zeri**(`http://www.wikidata.org/entity/Q1089074`)"
   ]
  },
  {
   "cell_type": "code",
   "execution_count": null,
   "metadata": {},
   "outputs": [],
   "source": [
    "from rdflib import URIRef, Literal\n",
    "# all the properties and objects having Federico Zeri as subject\n",
    "for s, p, o, c in g.quads():\n",
    "    if s == URIRef('http://www.wikidata.org/entity/Q1089074'): # the URI representing Federico Zeri\n",
    "        print(p, o)"
   ]
  },
  {
   "cell_type": "markdown",
   "metadata": {},
   "source": [
    "Now, imagine we want only the object of a specific property, for instance the biography of Federico Zeri, which is the object of the property `http://purl.org/dc/terms/description`. To get that, we need to specify the triple pattern as follows:"
   ]
  },
  {
   "cell_type": "code",
   "execution_count": null,
   "metadata": {},
   "outputs": [],
   "source": [
    "for s, p, o, c in g.quads():\n",
    "    if s == URIRef('http://www.wikidata.org/entity/Q1089074') \\\n",
    "    and p == URIRef('http://purl.org/dc/terms/description'): # the URI representing Federico Zeri\n",
    "        print(o)"
   ]
  },
  {
   "cell_type": "markdown",
   "metadata": {},
   "source": [
    "RDFlib offers competing and **shorter methods to access triples** in the graphs. \n",
    "\n",
    " * Instead of iterating over all the quads we can iterate over all the **triples** belonging to any graph (basically, we ignore the fourth variable `c`) \n",
    " * We use the *placeholder* **None** in the lookup triple pattern.\n",
    "\n",
    "The method that allows us to iterate over all triples is called `triples()` and it accepts a tuple `()` including three placeholders, respectively for the subject, the predicate, and the object. When one or more of the terms in the triple pattern are not known (e.g. in our case we don't know the *object* of the property `dcterms:description`) we use as placeholder the term `None`. For instance:"
   ]
  },
  {
   "cell_type": "code",
   "execution_count": null,
   "metadata": {
    "scrolled": true
   },
   "outputs": [],
   "source": [
    "for s, p, o in g.triples((URIRef('http://www.wikidata.org/entity/Q1089074'), URIRef('http://purl.org/dc/terms/description'), None )):\n",
    "    print(o)"
   ]
  },
  {
   "cell_type": "markdown",
   "metadata": {},
   "source": [
    "#### Namespaces\n",
    "\n",
    "As you can see the triple pattern can be very long if we have one or more URIs to specify. \n",
    "\n",
    "RDFlib provides means to shorten URIs by using their **namespace** followed by the short ID of the term,. For instance:\n",
    "\n",
    "```\n",
    "http://purl.org/dc/terms/ -> DCTERMS\n",
    "http://purl.org/dc/terms/description -> DCTERMS.description\n",
    "```\n",
    "\n",
    "Moreover, RDFlib has built-in namespaces for the most common vocabularies, such as RDF, RDFS, FOAF, and DCTERMS (our case!). Therefore we can shorten the prior code in a more readable way as follows."
   ]
  },
  {
   "cell_type": "code",
   "execution_count": null,
   "metadata": {},
   "outputs": [],
   "source": [
    "from rdflib.namespace import DCTERMS\n",
    "\n",
    "zeri = URIRef('http://www.wikidata.org/entity/Q1089074')\n",
    "for s, p, o in g.triples((zeri, DCTERMS.description, None)):\n",
    "    print(o)"
   ]
  },
  {
   "cell_type": "markdown",
   "metadata": {},
   "source": [
    "However, in ARTchives there are also non standard vocabularies, such as:\n",
    "\n",
    " * Wikidata classes and individuals, having prefix `http://www.wikidata.org/entity/`\n",
    " * Wikidata properties, having prefix `http://www.wikidata.org/prop/direct/`\n",
    " * ARTchives terms (classes, properties and individuals), having prefix `https://w3id.org/artchives/`\n",
    " \n",
    "For these cases, RDFlib allows you to specify your own namespaces as follows: "
   ]
  },
  {
   "cell_type": "code",
   "execution_count": null,
   "metadata": {},
   "outputs": [],
   "source": [
    "from rdflib import Namespace\n",
    "\n",
    "# assign prefixes to namespaces\n",
    "wd = Namespace(\"http://www.wikidata.org/entity/\") # remember that a prefix matches a URI until the last slash (or hashtag #)\n",
    "wdt = Namespace(\"http://www.wikidata.org/prop/direct/\")\n",
    "art = Namespace(\"https://w3id.org/artchives/\")"
   ]
  },
  {
   "cell_type": "markdown",
   "metadata": {},
   "source": [
    "For instance, our prior example on Federico Zeri, now looks like the following:"
   ]
  },
  {
   "cell_type": "code",
   "execution_count": null,
   "metadata": {},
   "outputs": [],
   "source": [
    "for s, p, o in g.triples((wd.Q1089074, DCTERMS.description, None)):\n",
    "    print(o)"
   ]
  },
  {
   "cell_type": "markdown",
   "metadata": {},
   "source": [
    "### Exercise (15min)\n",
    "\n",
    "In ARTchives, all the topics (people, organisations, movements, genres) studied by (or somehow related to) historians are linked to the historian by means of the predicate `http://www.wikidata.org/prop/direct/P921`. \n",
    "\n",
    "Every topic is identified by a URI, which is in turn associated to a label (a human-readable string) by means of the property `http://www.w3.org/2000/01/rdf-schema#label`. RDFlib allows you to import a built-in namespace called RDFS to recall this predicate faster.\n",
    "\n",
    "**Exercise: Extract the list of labels of all the topics related to Federico Zeri**\n",
    "\n",
    "Tips:\n",
    "\n",
    " * At the beginning of your file import RDFlib and the `Namespace` module\n",
    " * Iterate over the triples having (a) as subject the URI identifying Zeri, and (b) as predicate wdt.P921 (remember to declare and bind the namespaces to a prefix!)\n",
    " * Iterate over the objects of the prior triple pattern and lookup for a new triple pattern, having now as subject the variable identifying the topic, and as predicate RDFs.label (remember to import RDFS along with the built-in namespaces such as DCTERMS).\n",
    " * print the list"
   ]
  },
  {
   "cell_type": "code",
   "execution_count": null,
   "metadata": {},
   "outputs": [],
   "source": [
    "# solution placeholder\n",
    "from rdflib.namespace import RDFS\n",
    "unique_topics = set()\n",
    "\n",
    "for s,p,o in g.triples((wd.Q1089074, wdt.P921, None)):\n",
    "    for s1,p1,o1 in g.triples((o, RDFS.label, None)):\n",
    "        unique_topics.add(o1.strip())\n",
    "        \n",
    "for topic in unique_topics:\n",
    "    print(topic)"
   ]
  },
  {
   "cell_type": "markdown",
   "metadata": {},
   "source": [
    "## 3. Creating RDF triples\n",
    "\n",
    "At this point you know how to parse a RDF file wherein data are organised in named graphs (although you worked only on triples and didn't need to worry about the graphs) and how to perform simple iterations over data. RDFlib allows also to create graphs and to add triples to those.\n",
    "\n",
    "For instance, in ARTchives there is no information about historians' birth places, birth dates, or sex. \n",
    "In case of Federico Zeri (`http://www.wikidata.org/entity/Q1089074`), we can have a look at his record on [Wikidata](https://www.wikidata.org/wiki/Q1089074), where we will find out that he was born in **Rome**, his birthday is **12 August 1921**, and he is **male**.\n",
    "\n",
    " * The city of Rome is identified in Wikidata with the URI `https://www.wikidata.org/entity/Q220`. \n",
    " * The birth date is treated as a xsd:date (YYYY-MM-DD)\n",
    " * The sex is identified as a URI as well, but for the sake of the example we treat is a string.\n",
    "\n",
    "To add this information to the graph, we first need to declare the datatype of objects. "
   ]
  },
  {
   "cell_type": "code",
   "execution_count": null,
   "metadata": {},
   "outputs": [],
   "source": [
    "from rdflib.namespace import XSD\n",
    "from rdflib import Literal\n",
    "\n",
    "birthplace = URIRef(\"https://www.wikidata.org/entity/Q220\")\n",
    "birthdate = Literal('1921-08-12',datatype=XSD.date) # notice the datatype parameter\n",
    "sex = Literal(\"male\",lang=\"en\") # notice the lang parameter\n"
   ]
  },
  {
   "cell_type": "markdown",
   "metadata": {},
   "source": [
    "Then we need to choose the predicates to which these objects must be linked. We decide to reuse Wikidata predicates:\n",
    "\n",
    " * birth place: `http://www.wikidata.org/prop/direct/P19` -> wdt.P19\n",
    " * birth date: `http://www.wikidata.org/prop/direct/P569` -> wdt.P569\n",
    " * sex: `http://www.wikidata.org/prop/direct/P21` -> wdt.P21\n",
    "\n",
    "**Be aware that URIs of Wikidata web pages differ from the URIs of classes/individuals/predicates there described. Only the last part (after the last slash) applies to both web pages / persistent URIs. **\n",
    "\n",
    "Lastly, we use the method `add()` to insert a new triple (a tuple) to the graph."
   ]
  },
  {
   "cell_type": "code",
   "execution_count": null,
   "metadata": {},
   "outputs": [],
   "source": [
    "g.add(( wd.Q1089074, wdt.P19, birthplace ))\n",
    "g.add(( wd.Q1089074, wdt.P569, birthdate ))\n",
    "g.add(( wd.Q1089074, wdt.P21, sex ))"
   ]
  },
  {
   "cell_type": "markdown",
   "metadata": {},
   "source": [
    "Now we can double-check if the new data has been correctly added. Let's query our graph for Federico Zeri's birth place, date, and sex."
   ]
  },
  {
   "cell_type": "code",
   "execution_count": null,
   "metadata": {},
   "outputs": [],
   "source": [
    "check_properties = [wdt.P19, wdt.P569, wdt.P21]\n",
    "\n",
    "for prop in check_properties:\n",
    "    for s,p,o in g.triples((wd.Q1089074, prop, None )):\n",
    "        print(s, prop, o)"
   ]
  },
  {
   "cell_type": "markdown",
   "metadata": {},
   "source": [
    "Apparently there was already some information about Federico Zeri's birth date. Let's analyse it:"
   ]
  },
  {
   "cell_type": "code",
   "execution_count": null,
   "metadata": {},
   "outputs": [],
   "source": [
    "for s,p,o in g.triples((wd.Q1089074, wdt.P569, None )):\n",
    "    print(o, type(o), o.datatype)"
   ]
  },
  {
   "cell_type": "markdown",
   "metadata": {},
   "source": [
    "Apparently the birth date was added with `XSD.gYear` as datatype, that is, only the year was included (the label 1921-01-01 may be misleading since also the month and the day are shown - that's why it's important to know the datatypes!). \n",
    "\n",
    "We can remove the duplicate year by using the method `remove()` which allows to specify all the terms of the pattern that we want to remove. In our case we want to remove one specific triple, hence we specify all the three placeholders in the triple pattern."
   ]
  },
  {
   "cell_type": "code",
   "execution_count": null,
   "metadata": {},
   "outputs": [],
   "source": [
    "g.remove((wd.Q1089074, wdt.P569, Literal(\"1921-01-01\",datatype=XSD.gYear) ))\n",
    "\n",
    "# check if it has been deleted\n",
    "for s,p,o in g.triples((wd.Q1089074, wdt.P569, None )):\n",
    "        print(s, p, o)"
   ]
  },
  {
   "cell_type": "markdown",
   "metadata": {},
   "source": [
    "## 4. Saving and storing RDF data\n"
   ]
  },
  {
   "cell_type": "markdown",
   "metadata": {},
   "source": [
    "The changes that we made to the graphs are saved in an in-memory graph, that is, once the python program stops running the information added/removed get lost. To prevent this, we can save the data in a new file (as a good practise, never write on the original data, you never know!). \n",
    "\n",
    "First, you need to choose the serialization. As aforementioned we can write RDF data by using several syntaxes (e.g. n3, turtle, XML, nquads). In our case, we select the orginal serialisation of our data, i.e. `nquads`.\n",
    "\n",
    "Second, you need to select the file where to save data. In our case we dump data in the folder `resource`, and we call our file `artchives_enhanced.nq`."
   ]
  },
  {
   "cell_type": "code",
   "execution_count": null,
   "metadata": {},
   "outputs": [],
   "source": [
    "g.serialize(destination='../resources/artchives_enhanced.nq', format='nquads')"
   ]
  },
  {
   "cell_type": "markdown",
   "metadata": {},
   "source": [
    "Useful links:\n",
    " \n",
    " * [RDFlib official documentation](https://rdflib.readthedocs.io/en/stable/gettingstarted.html)\n",
    " * [Youtube series of tutorial on working on RDF with python](https://www.youtube.com/watch?v=sCU214rbRZ0) Pay attention! in this tutorial the speaker is working with **only one graph**, hence he uses the RDFlib class `Graph()`, while we worked on several graphs included in one file, hence we used the class `ConjunctiveGraph()`. It's worth to notice that when you work on a single graph you have more methods then when working on multiple graphs (e.g. `Graph()` allows you to iterate over subjects, objects, subjects and predicates, predicates and objects, while `ConjunctiveGraph()` allows you to iterate only on `triples()` and `quads()`)   \n",
    " * **There is also a Javascript library called [rdflib](https://linkeddata.github.io/rdflib.js/doc/) to handle data client-side (in the browser).** We will not use this in our classes, but you are welcome to explore it for future use and eventually for your project!"
   ]
  },
  {
   "cell_type": "markdown",
   "metadata": {},
   "source": [
    "## Homework\n",
    "\n",
    "Fill in the [questionnaire](https://forms.gle/uWW3j7sXNZ8WF3B89)"
   ]
  }
 ],
 "metadata": {
  "kernelspec": {
   "display_name": "Python 3",
   "language": "python",
   "name": "python3"
  },
  "language_info": {
   "codemirror_mode": {
    "name": "ipython",
    "version": 3
   },
   "file_extension": ".py",
   "mimetype": "text/x-python",
   "name": "python",
   "nbconvert_exporter": "python",
   "pygments_lexer": "ipython3",
   "version": "3.8.0"
  }
 },
 "nbformat": 4,
 "nbformat_minor": 4
}
