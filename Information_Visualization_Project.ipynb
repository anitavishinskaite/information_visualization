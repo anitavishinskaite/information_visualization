{
  "nbformat": 4,
  "nbformat_minor": 0,
  "metadata": {
    "colab": {
      "provenance": []
    },
    "kernelspec": {
      "name": "python3",
      "display_name": "Python 3"
    },
    "language_info": {
      "name": "python"
    }
  },
  "cells": [
    {
      "cell_type": "code",
      "execution_count": null,
      "metadata": {
        "colab": {
          "base_uri": "https://localhost:8080/"
        },
        "id": "D14lGd3_tUgU",
        "outputId": "59400036-fd1c-4f2f-e7f8-d6796763f115"
      },
      "outputs": [
        {
          "output_type": "stream",
          "name": "stdout",
          "text": [
            "\u001b[2K     \u001b[90m━━━━━━━━━━━━━━━━━━━━━━━━━━━━━━━━━━━━━━\u001b[0m \u001b[32m500.3/500.3 KB\u001b[0m \u001b[31m21.4 MB/s\u001b[0m eta \u001b[36m0:00:00\u001b[0m\n",
            "\u001b[2K     \u001b[90m━━━━━━━━━━━━━━━━━━━━━━━━━━━━━━━━━━━━━━━━\u001b[0m \u001b[32m41.7/41.7 KB\u001b[0m \u001b[31m3.6 MB/s\u001b[0m eta \u001b[36m0:00:00\u001b[0m\n",
            "\u001b[?25h"
          ]
        }
      ],
      "source": [
        "pip install --quiet rdflib SPARQLWrapper pandas"
      ]
    },
    {
      "cell_type": "code",
      "source": [
        "import rdflib\n",
        "import ssl\n",
        "import json\n",
        "import pprint\n",
        "import pandas as pd\n",
        "from pprint import pprint\n",
        "from SPARQLWrapper import SPARQLWrapper, JSON\n",
        "from rdflib import URIRef\n",
        "\n",
        "ssl._create_default_https_context = ssl._create_unverified_context\n",
        "wikidata_endpoint = \"https://query.wikidata.org/bigdata/namespace/wdq/sparql\"\n",
        "sparql_wd = SPARQLWrapper(wikidata_endpoint)\n",
        "sparql_wd.setReturnFormat(JSON)"
      ],
      "metadata": {
        "id": "bvJwPT8lvIwq"
      },
      "execution_count": null,
      "outputs": []
    },
    {
      "cell_type": "code",
      "source": [
        "query = \"\"\"\n",
        "SELECT (COUNT(DISTINCT ?person) as ?count) WHERE {\n",
        "  ?person wdt:P31 wd:Q5.\n",
        "  ?person wdt:P106 wd:Q484188.\n",
        "}\n",
        "\"\"\"\n",
        "\n",
        "sparql_wd.setQuery(query)\n",
        "sparql_wd.setReturnFormat(JSON)\n",
        "\n",
        "results = sparql_wd.query().convert()\n",
        "\n",
        "results = pd.DataFrame([\n",
        "    {\n",
        "      'Total Serial Killers': result['count']['value']\n",
        "    }\n",
        "    for result in results['results']['bindings']\n",
        "])\n",
        "\n",
        "print(results)"
      ],
      "metadata": {
        "id": "KUhoDRSbOSE-",
        "colab": {
          "base_uri": "https://localhost:8080/"
        },
        "outputId": "98bd2676-1af0-436d-f291-16d98db6f751"
      },
      "execution_count": null,
      "outputs": [
        {
          "output_type": "stream",
          "name": "stdout",
          "text": [
            "  Total Serial Killers\n",
            "0                 1099\n"
          ]
        }
      ]
    },
    {
      "cell_type": "code",
      "source": [
        "query = \"\"\"\n",
        "SELECT ?serialKillerLabel ?victimCount ?countryOfCitizenshipLabel WHERE {\n",
        "?serialKiller wdt:P106 wd:Q484188 .\n",
        "?serialKiller wdt:P31 wd:Q5 .\n",
        "?serialKiller wdt:P1345 ?victimCount .\n",
        "?serialKiller wdt:P27 ?countryOfCitizenship .\n",
        "?countryOfCitizenship wdt:P31 wd:Q3624078 .\n",
        "SERVICE wikibase:label { bd:serviceParam wikibase:language \"en\" .\n",
        "    ?serialKiller rdfs:label ?serialKillerLabel .\n",
        "    ?countryOfCitizenship rdfs:label ?countryOfCitizenshipLabel .\n",
        "    }\n",
        "}\n",
        "ORDER BY DESC(?victimCount)\n",
        "LIMIT 20\n",
        "\"\"\"\n",
        "sparql_wd.setQuery(query)\n",
        "\n",
        "results = sparql_wd.query().convert()\n",
        "\n",
        "results = pd.DataFrame([\n",
        "    {\n",
        "      'Serial Killer': result['serialKillerLabel']['value'],\n",
        "      'Victims': result['victimCount']['value'],\n",
        "      'Country': result['countryOfCitizenshipLabel']['value']\n",
        "    }\n",
        "    for result in results['results']['bindings']\n",
        "])\n",
        "\n",
        "print(results)"
      ],
      "metadata": {
        "colab": {
          "base_uri": "https://localhost:8080/"
        },
        "id": "pV5xOVoux3gX",
        "outputId": "c1ffb697-0403-4493-87e5-9386fc22393d"
      },
      "execution_count": null,
      "outputs": [
        {
          "output_type": "stream",
          "name": "stdout",
          "text": [
            "                Serial Killer Victims                     Country\n",
            "0               Samuel Little      93    United States of America\n",
            "1                Gary Ridgway      49    United States of America\n",
            "2             Salvatore Riina      45                       Italy\n",
            "3                  Wang Qiang      45  People's Republic of China\n",
            "4            Andrei Chikatilo      43                      Russia\n",
            "5       Hadj Mohammed Mesfewi      36                     Morocco\n",
            "6                   Ted Bundy      36    United States of America\n",
            "7             François Vérove      25                      France\n",
            "8     Ángel Maturino Reséndiz      23                      Mexico\n",
            "9                 Yvan Keller      23                      France\n",
            "10               Earle Nelson      22    United States of America\n",
            "11              William Bonin      21    United States of America\n",
            "12             Yoo Young-chul      20                 South Korea\n",
            "13             Thierry Paulin      18                      France\n",
            "14             Jeffrey Dahmer      17    United States of America\n",
            "15            François Vérove      17                      France\n",
            "16          Irina Gaidamachuk      17                      Russia\n",
            "17  Novosibirsk Serial Killer      17                      Russia\n",
            "18        Ronald Gene Simmons      16    United States of America\n",
            "19           Gesche Gottfried      15                     Germany\n"
          ]
        }
      ]
    },
    {
      "cell_type": "code",
      "source": [
        "query = \"\"\"\n",
        "SELECT ?countryLabel (COUNT(?serial_killer) AS ?count) WHERE {\n",
        "  ?serial_killer wdt:P106 wd:Q484188 .\n",
        "  ?serial_killer wdt:P31 wd:Q5 .\n",
        "  ?serial_killer wdt:P27 ?country .\n",
        "  ?country wdt:P31 wd:Q3624078 .\n",
        "  ?country rdfs:label ?countryLabel .\n",
        "  FILTER (LANG(?countryLabel) = \"en\")\n",
        "}\n",
        "GROUP BY ?countryLabel ?country\n",
        "ORDER BY DESC(?count)\n",
        "\"\"\"\n",
        "sparql_wd.setQuery(query)\n",
        "\n",
        "results = sparql_wd.query().convert()\n",
        "\n",
        "results = pd.DataFrame([\n",
        "    {\n",
        "      'Country': result['countryLabel']['value'],\n",
        "      'Serial Killers': result['count']['value'],\n",
        "    }\n",
        "    for result in results['results']['bindings']\n",
        "])\n",
        "\n",
        "print(results)"
      ],
      "metadata": {
        "colab": {
          "base_uri": "https://localhost:8080/"
        },
        "id": "hkF4WzcABkNC",
        "outputId": "1197a080-5336-409c-fd0a-41b2e4a5977b"
      },
      "execution_count": null,
      "outputs": [
        {
          "output_type": "stream",
          "name": "stdout",
          "text": [
            "                     Country Serial Killers\n",
            "0   United States of America            280\n",
            "1                     Russia             58\n",
            "2                     France             49\n",
            "3             United Kingdom             43\n",
            "4                    Germany             33\n",
            "..                       ...            ...\n",
            "61               North Korea              1\n",
            "62               New Zealand              1\n",
            "63                 Venezuela              1\n",
            "64                   Ecuador              1\n",
            "65                   Bolivia              1\n",
            "\n",
            "[66 rows x 2 columns]\n"
          ]
        }
      ]
    },
    {
      "cell_type": "code",
      "source": [
        "query = \"\"\"\n",
        "SELECT (COUNT(?male_serial_killer) AS ?male_count) (COUNT(?female_serial_killer) AS ?female_count) WHERE {\n",
        "  {\n",
        "    SELECT ?male_serial_killer WHERE {\n",
        "      ?male_serial_killer wdt:P106 wd:Q484188 .\n",
        "      ?male_serial_killer wdt:P31 wd:Q5 .\n",
        "      ?male_serial_killer wdt:P21 wd:Q6581097 .\n",
        "      ?male_serial_killer wdt:P31 wd:Q5 .\n",
        "    }\n",
        "  }\n",
        "  UNION\n",
        "  {\n",
        "    SELECT ?female_serial_killer WHERE {\n",
        "      ?female_serial_killer wdt:P106 wd:Q484188 .\n",
        "      ?female_serial_killer wdt:P31 wd:Q5 .\n",
        "      ?female_serial_killer wdt:P21 wd:Q6581072 .\n",
        "      ?female_serial_killer wdt:P31 wd:Q5 .\n",
        "    }\n",
        "  }\n",
        "}\n",
        "\"\"\"\n",
        "sparql_wd.setQuery(query)\n",
        "\n",
        "results = sparql_wd.query().convert()\n",
        "\n",
        "results = pd.DataFrame([\n",
        "    {\n",
        "      'Males': result['male_count']['value'],\n",
        "      'Females': result['female_count']['value']\n",
        "    }\n",
        "    for result in results['results']['bindings']\n",
        "])\n",
        "\n",
        "print(results)"
      ],
      "metadata": {
        "colab": {
          "base_uri": "https://localhost:8080/"
        },
        "id": "2J_rWYzW_2xo",
        "outputId": "3af5a841-cb11-44de-e895-fc06099b3135"
      },
      "execution_count": null,
      "outputs": [
        {
          "output_type": "stream",
          "name": "stdout",
          "text": [
            "  Males Females\n",
            "0   946     134\n"
          ]
        }
      ]
    },
    {
      "cell_type": "code",
      "source": [
        "query = \"\"\"\n",
        "SELECT DISTINCT ?occupationLabel (COUNT(?serialKiller) AS ?count) WHERE {\n",
        "?serialKiller wdt:P106 wd:Q484188;\n",
        "wdt:P106 ?occupation .\n",
        "?occupation wdt:P31 ?profession.\n",
        "FILTER (?profession = wd:Q3922583 || ?profession = wd:Q28640 || ?profession = wd:Q192581 || ?profession = wd:Q4164871 || ?profession = wd:Q6958747 || ?profession = wd:Q1914636)\n",
        "SERVICE wikibase:label {\n",
        "bd:serviceParam wikibase:language \"en\".\n",
        "?occupation rdfs:label ?occupationLabel .\n",
        "}\n",
        "}\n",
        "GROUP BY ?occupationLabel\n",
        "ORDER BY DESC(?count)\n",
        "LIMIT 20\n",
        "\"\"\"\n",
        "sparql_wd.setQuery(query)\n",
        "\n",
        "results = sparql_wd.query().convert()\n",
        "\n",
        "results = pd.DataFrame([\n",
        "    {\n",
        "      'Occupation': result['occupationLabel']['value'],\n",
        "      'Count': result['count']['value']\n",
        "    }\n",
        "    for result in results['results']['bindings']\n",
        "])\n",
        "\n",
        "print(results)"
      ],
      "metadata": {
        "colab": {
          "base_uri": "https://localhost:8080/"
        },
        "id": "IYQHzsi8cUdp",
        "outputId": "9f6a68c4-6c8b-4522-83fc-cd44d4ed1157"
      },
      "execution_count": null,
      "outputs": [
        {
          "output_type": "stream",
          "name": "stdout",
          "text": [
            "            Occupation Count\n",
            "0                nurse    31\n",
            "1   military personnel    25\n",
            "2            physician    18\n",
            "3           prostitute     8\n",
            "4               writer     8\n",
            "5       police officer     8\n",
            "6              soldier     8\n",
            "7           journalist     8\n",
            "8            scientist     8\n",
            "9         psychiatrist     6\n",
            "10            mechanic     6\n",
            "11        truck driver     4\n",
            "12      businessperson     4\n",
            "13             butcher     4\n",
            "14        entrepreneur     4\n",
            "15                poet     4\n",
            "16        photographer     4\n",
            "17         electrician     4\n",
            "18         taxi driver     4\n",
            "19         salesperson     4\n"
          ]
        }
      ]
    },
    {
      "cell_type": "code",
      "source": [
        "query = \"\"\"\n",
        "  SELECT (AVG(?age) AS ?average_age) WHERE {\n",
        "  ?serial_killer wdt:P106 wd:Q484188 .\n",
        "  ?serial_killer wdt:P31 wd:Q5 .\n",
        "  ?serial_killer wdt:P569 ?birth_date .\n",
        "  ?serial_killer wdt:P570 ?death_date .\n",
        "  BIND(YEAR(?death_date) - YEAR(?birth_date) AS ?age)\n",
        "}\n",
        "\"\"\"\n",
        "\n",
        "sparql_wd.setQuery(query)\n",
        "\n",
        "results = sparql_wd.query().convert()\n",
        "\n",
        "results = pd.DataFrame([\n",
        "    {\n",
        "      'Average Life Expectancy': result['average_age']['value']\n",
        "    }\n",
        "    for result in results['results']['bindings']\n",
        "])\n",
        "\n",
        "print(results)"
      ],
      "metadata": {
        "colab": {
          "base_uri": "https://localhost:8080/"
        },
        "id": "WA2h2INUNWaa",
        "outputId": "6a3b1b80-e06b-46d6-b04b-b6fdccf4b2c3"
      },
      "execution_count": null,
      "outputs": [
        {
          "output_type": "stream",
          "name": "stdout",
          "text": [
            "   Average Life Expectancy\n",
            "0  48.53530377668308702791\n"
          ]
        }
      ]
    },
    {
      "cell_type": "code",
      "source": [
        "query = \"\"\"\n",
        "SELECT DISTINCT ?penaltyLabel (COUNT(?person) AS ?count)\n",
        "WHERE {\n",
        "  ?person wdt:P106 wd:Q484188 ;\n",
        "          wdt:P1596 ?penalty .\n",
        "  ?penalty rdfs:label ?penaltyLabel .\n",
        "  FILTER (LANG(?penaltyLabel) = \"en\")\n",
        "}\n",
        "GROUP BY ?penaltyLabel\n",
        "\"\"\"\n",
        "\n",
        "sparql_wd.setQuery(query)\n",
        "\n",
        "results = sparql_wd.query().convert()\n",
        "\n",
        "results = pd.DataFrame([\n",
        "    {\n",
        "      'Penalty': result['penaltyLabel']['value'],\n",
        "      'Count': result['count']['value']\n",
        "    }\n",
        "    for result in results['results']['bindings']\n",
        "])\n",
        "\n",
        "print(results)"
      ],
      "metadata": {
        "colab": {
          "base_uri": "https://localhost:8080/"
        },
        "id": "2mYTvzRd_dRe",
        "outputId": "38bb5694-60af-470e-d3b0-d07caaef9b35"
      },
      "execution_count": null,
      "outputs": [
        {
          "output_type": "stream",
          "name": "stdout",
          "text": [
            "                        Penalty Count\n",
            "0                 dismemberment     1\n",
            "1             life imprisonment   111\n",
            "2   back-to-back life sentences     1\n",
            "3          solitary confinement     1\n",
            "4   Life imprisonment in Russia     1\n",
            "5          penal transportation     1\n",
            "6                       hanging     2\n",
            "7        involuntary commitment     8\n",
            "8                 incarceration     6\n",
            "9   capital punishment in Japan     3\n",
            "10         mandatory sentencing     1\n",
            "11                         None     1\n",
            "12           capital punishment   148\n",
            "13               electric chair     1\n",
            "14                   immurement     1\n",
            "15                 imprisonment     1\n",
            "16         execution by hanging     1\n",
            "17                      Katorga     1\n"
          ]
        }
      ]
    },
    {
      "cell_type": "code",
      "source": [
        "query = \"\"\"\n",
        "SELECT \n",
        "  (COUNT(DISTINCT ?personWithEducation) / COUNT(DISTINCT ?person) * 100 AS ?percentWithEducation)\n",
        "  (COUNT(DISTINCT ?personWithoutEducation) / COUNT(DISTINCT ?person) * 100 AS ?percentWithoutEducation)\n",
        "WHERE {\n",
        "{\n",
        "    SELECT DISTINCT ?person\n",
        "    WHERE {\n",
        "      ?person wdt:P106 wd:Q484188 ;\n",
        "              wdt:P69 ?education .\n",
        "    }\n",
        "  }\n",
        "  BIND (COUNT(DISTINCT ?person) AS ?total) .\n",
        "  {\n",
        "    SELECT DISTINCT ?personWithEducation\n",
        "    WHERE {\n",
        "      ?personWithEducation wdt:P106 wd:Q484188 ;\n",
        "                          wdt:P69 ?education .\n",
        "      ?education wdt:P31/wdt:P279* wd:Q3918 .\n",
        "    }\n",
        "  }\n",
        "  BIND (COUNT(DISTINCT ?personWithEducation) AS ?withEducation) .\n",
        "  {\n",
        "    SELECT DISTINCT ?personWithoutEducation\n",
        "    WHERE {\n",
        "      ?personWithoutEducation wdt:P106 wd:Q484188 ;\n",
        "                             wdt:P69 ?education .\n",
        "      FILTER NOT EXISTS { ?education wdt:P31/wdt:P279* wd:Q3918 . }\n",
        "    }\n",
        "  }\n",
        "  BIND (COUNT(DISTINCT ?personWithoutEducation) AS ?withoutEducation) .\n",
        "}\n",
        "\"\"\"\n",
        "\n",
        "sparql_wd.setQuery(query)\n",
        "\n",
        "results = sparql_wd.query().convert()\n",
        "\n",
        "results = pd.DataFrame([\n",
        "    {\n",
        "        'With Education' : result['percentWithEducation']['value'],\n",
        "        'Without Education' : result['percentWithoutEducation']['value']\n",
        "    }\n",
        "    for result in results['results']['bindings']\n",
        "])\n",
        "\n",
        "print(results)"
      ],
      "metadata": {
        "colab": {
          "base_uri": "https://localhost:8080/"
        },
        "id": "fMmy030I48mc",
        "outputId": "a895dcae-235b-4bbd-d512-71ffc6ba8511"
      },
      "execution_count": null,
      "outputs": [
        {
          "output_type": "stream",
          "name": "stdout",
          "text": [
            "         With Education      Without Education\n",
            "0  35.77981651376146789  83.486238532110091743\n"
          ]
        }
      ]
    },
    {
      "cell_type": "code",
      "source": [
        "query = \"\"\"\n",
        "SELECT ?conditionLabel (COUNT(?condition) AS ?count) WHERE {\n",
        "  ?person wdt:P106 wd:Q484188 .\n",
        "  ?person wdt:P106 wd:Q484188.\n",
        "  ?person wdt:P1050 ?condition .\n",
        "  ?condition wdt:P1995 ?healthSpecialty .\n",
        "FILTER (?healthSpecialty IN (wd:Q7867, wd:Q9418, wd:Q170912, wd:Q178059))\n",
        "SERVICE wikibase:label {\n",
        "    bd:serviceParam wikibase:language \"en\" .\n",
        "    ?condition rdfs:label ?conditionLabel .\n",
        "  }\n",
        "}\n",
        "GROUP BY ?conditionLabel\n",
        "ORDER BY DESC(?count)\n",
        "\"\"\"\n",
        "\n",
        "sparql_wd.setQuery(query)\n",
        "\n",
        "results = sparql_wd.query().convert()\n",
        "\n",
        "results = pd.DataFrame([\n",
        "    {\n",
        "        'Mental Ilness' : result['conditionLabel']['value'],\n",
        "        'Count' : result['count']['value']\n",
        "    }\n",
        "    for result in results['results']['bindings']\n",
        "])\n",
        "\n",
        "print(results)"
      ],
      "metadata": {
        "colab": {
          "base_uri": "https://localhost:8080/"
        },
        "id": "x_GCtkHP6jrq",
        "outputId": "4f9adaa2-13d7-45b6-e7e9-389d9f3fc47a"
      },
      "execution_count": null,
      "outputs": [
        {
          "output_type": "stream",
          "name": "stdout",
          "text": [
            "                                   Mental Ilness Count\n",
            "0                antisocial personality disorder    18\n",
            "1                borderline personality disorder     6\n",
            "2                                     pedophilia     4\n",
            "3                                  schizophrenia     3\n",
            "4                               bipolar disorder     3\n",
            "5                                    kleptomania     2\n",
            "6                           erectile dysfunction     2\n",
            "7                           personality disorder     2\n",
            "8                                     alcoholism     2\n",
            "9                                    necrophilia     2\n",
            "10  personality disorder not otherwise specified     2\n",
            "11                        sexual sadism disorder     1\n",
            "12                               speech disorder     1\n",
            "13                                   psychopathy     1\n",
            "14                                      muteness     1\n",
            "15                                     psychosis     1\n"
          ]
        }
      ]
    }
  ]
}